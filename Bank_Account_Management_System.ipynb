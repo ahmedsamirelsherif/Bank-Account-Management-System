{
  "nbformat": 4,
  "nbformat_minor": 0,
  "metadata": {
    "colab": {
      "provenance": []
    },
    "kernelspec": {
      "name": "python3",
      "display_name": "Python 3"
    },
    "language_info": {
      "name": "python"
    }
  },
  "cells": [
    {
      "cell_type": "code",
      "execution_count": 1,
      "metadata": {
        "id": "2JycaVSrdNtQ"
      },
      "outputs": [],
      "source": [
        "class Account:\n",
        "  Name=None\n",
        "  Account_id=None\n",
        "  _Account_ID=1000\n",
        "  Balance=None\n",
        "  _balance=10000\n",
        "  def __init__(self):\n",
        "    self.Account_id=Account._Account_ID\n",
        "  def __init__(self):\n",
        "    self.Balance=Account._balance\n",
        "  def deposit(self,amount):\n",
        "    self.Balance=self.Balance+amount\n",
        "  def withdraw(self,amount):\n",
        "    if self.Balance>=amount:\n",
        "      self.Balance=self.Balance-amount\n",
        "    else:\n",
        "      print('Insufficient funds')\n",
        "  def display(self):\n",
        "    print(f'Account ID: {self.Account_id}\\nName: {self.Name}\\nBalance: {self.Balance}')"
      ]
    },
    {
      "cell_type": "code",
      "source": [
        "Accounts=[]"
      ],
      "metadata": {
        "id": "4Omc_fVUd2s8"
      },
      "execution_count": 2,
      "outputs": []
    },
    {
      "cell_type": "code",
      "source": [
        "def read_data():\n",
        "  acc=Account()\n",
        "  acc.Account_id=int(input('Enter Account ID: '))\n",
        "  acc.Name=input('Enter Name: ')\n",
        "  Accounts.append(acc)\n",
        "def Display_accounts():\n",
        "  for i in Accounts:\n",
        "    i.display()\n",
        "    print('---------------------------------------')"
      ],
      "metadata": {
        "id": "sjveut8Kd3Fs"
      },
      "execution_count": 3,
      "outputs": []
    },
    {
      "cell_type": "code",
      "source": [
        "read_data()"
      ],
      "metadata": {
        "colab": {
          "base_uri": "https://localhost:8080/",
          "height": 287
        },
        "id": "0NAnbsiJd5Tf",
        "outputId": "3317478a-e00f-4b93-e1b3-e9fcbc1e7189"
      },
      "execution_count": 4,
      "outputs": [
        {
          "output_type": "error",
          "ename": "KeyboardInterrupt",
          "evalue": "Interrupted by user",
          "traceback": [
            "\u001b[0;31m---------------------------------------------------------------------------\u001b[0m",
            "\u001b[0;31mKeyboardInterrupt\u001b[0m                         Traceback (most recent call last)",
            "\u001b[0;32m<ipython-input-4-d55ff03233c7>\u001b[0m in \u001b[0;36m<cell line: 0>\u001b[0;34m()\u001b[0m\n\u001b[0;32m----> 1\u001b[0;31m \u001b[0mread_data\u001b[0m\u001b[0;34m(\u001b[0m\u001b[0;34m)\u001b[0m\u001b[0;34m\u001b[0m\u001b[0;34m\u001b[0m\u001b[0m\n\u001b[0m",
            "\u001b[0;32m<ipython-input-3-c3fa74279e21>\u001b[0m in \u001b[0;36mread_data\u001b[0;34m()\u001b[0m\n\u001b[1;32m      1\u001b[0m \u001b[0;32mdef\u001b[0m \u001b[0mread_data\u001b[0m\u001b[0;34m(\u001b[0m\u001b[0;34m)\u001b[0m\u001b[0;34m:\u001b[0m\u001b[0;34m\u001b[0m\u001b[0;34m\u001b[0m\u001b[0m\n\u001b[1;32m      2\u001b[0m   \u001b[0macc\u001b[0m\u001b[0;34m=\u001b[0m\u001b[0mAccount\u001b[0m\u001b[0;34m(\u001b[0m\u001b[0;34m)\u001b[0m\u001b[0;34m\u001b[0m\u001b[0;34m\u001b[0m\u001b[0m\n\u001b[0;32m----> 3\u001b[0;31m   \u001b[0macc\u001b[0m\u001b[0;34m.\u001b[0m\u001b[0mAccount_id\u001b[0m\u001b[0;34m=\u001b[0m\u001b[0mint\u001b[0m\u001b[0;34m(\u001b[0m\u001b[0minput\u001b[0m\u001b[0;34m(\u001b[0m\u001b[0;34m'Enter Account ID: '\u001b[0m\u001b[0;34m)\u001b[0m\u001b[0;34m)\u001b[0m\u001b[0;34m\u001b[0m\u001b[0;34m\u001b[0m\u001b[0m\n\u001b[0m\u001b[1;32m      4\u001b[0m   \u001b[0macc\u001b[0m\u001b[0;34m.\u001b[0m\u001b[0mName\u001b[0m\u001b[0;34m=\u001b[0m\u001b[0minput\u001b[0m\u001b[0;34m(\u001b[0m\u001b[0;34m'Enter Name: '\u001b[0m\u001b[0;34m)\u001b[0m\u001b[0;34m\u001b[0m\u001b[0;34m\u001b[0m\u001b[0m\n\u001b[1;32m      5\u001b[0m   \u001b[0mAccounts\u001b[0m\u001b[0;34m.\u001b[0m\u001b[0mappend\u001b[0m\u001b[0;34m(\u001b[0m\u001b[0macc\u001b[0m\u001b[0;34m)\u001b[0m\u001b[0;34m\u001b[0m\u001b[0;34m\u001b[0m\u001b[0m\n",
            "\u001b[0;32m/usr/local/lib/python3.11/dist-packages/ipykernel/kernelbase.py\u001b[0m in \u001b[0;36mraw_input\u001b[0;34m(self, prompt)\u001b[0m\n\u001b[1;32m   1175\u001b[0m                 \u001b[0;34m\"raw_input was called, but this frontend does not support input requests.\"\u001b[0m\u001b[0;34m\u001b[0m\u001b[0;34m\u001b[0m\u001b[0m\n\u001b[1;32m   1176\u001b[0m             )\n\u001b[0;32m-> 1177\u001b[0;31m         return self._input_request(\n\u001b[0m\u001b[1;32m   1178\u001b[0m             \u001b[0mstr\u001b[0m\u001b[0;34m(\u001b[0m\u001b[0mprompt\u001b[0m\u001b[0;34m)\u001b[0m\u001b[0;34m,\u001b[0m\u001b[0;34m\u001b[0m\u001b[0;34m\u001b[0m\u001b[0m\n\u001b[1;32m   1179\u001b[0m             \u001b[0mself\u001b[0m\u001b[0;34m.\u001b[0m\u001b[0m_parent_ident\u001b[0m\u001b[0;34m[\u001b[0m\u001b[0;34m\"shell\"\u001b[0m\u001b[0;34m]\u001b[0m\u001b[0;34m,\u001b[0m\u001b[0;34m\u001b[0m\u001b[0;34m\u001b[0m\u001b[0m\n",
            "\u001b[0;32m/usr/local/lib/python3.11/dist-packages/ipykernel/kernelbase.py\u001b[0m in \u001b[0;36m_input_request\u001b[0;34m(self, prompt, ident, parent, password)\u001b[0m\n\u001b[1;32m   1217\u001b[0m             \u001b[0;32mexcept\u001b[0m \u001b[0mKeyboardInterrupt\u001b[0m\u001b[0;34m:\u001b[0m\u001b[0;34m\u001b[0m\u001b[0;34m\u001b[0m\u001b[0m\n\u001b[1;32m   1218\u001b[0m                 \u001b[0;31m# re-raise KeyboardInterrupt, to truncate traceback\u001b[0m\u001b[0;34m\u001b[0m\u001b[0;34m\u001b[0m\u001b[0m\n\u001b[0;32m-> 1219\u001b[0;31m                 \u001b[0;32mraise\u001b[0m \u001b[0mKeyboardInterrupt\u001b[0m\u001b[0;34m(\u001b[0m\u001b[0;34m\"Interrupted by user\"\u001b[0m\u001b[0;34m)\u001b[0m \u001b[0;32mfrom\u001b[0m \u001b[0;32mNone\u001b[0m\u001b[0;34m\u001b[0m\u001b[0;34m\u001b[0m\u001b[0m\n\u001b[0m\u001b[1;32m   1220\u001b[0m             \u001b[0;32mexcept\u001b[0m \u001b[0mException\u001b[0m\u001b[0;34m:\u001b[0m\u001b[0;34m\u001b[0m\u001b[0;34m\u001b[0m\u001b[0m\n\u001b[1;32m   1221\u001b[0m                 \u001b[0mself\u001b[0m\u001b[0;34m.\u001b[0m\u001b[0mlog\u001b[0m\u001b[0;34m.\u001b[0m\u001b[0mwarning\u001b[0m\u001b[0;34m(\u001b[0m\u001b[0;34m\"Invalid Message:\"\u001b[0m\u001b[0;34m,\u001b[0m \u001b[0mexc_info\u001b[0m\u001b[0;34m=\u001b[0m\u001b[0;32mTrue\u001b[0m\u001b[0;34m)\u001b[0m\u001b[0;34m\u001b[0m\u001b[0;34m\u001b[0m\u001b[0m\n",
            "\u001b[0;31mKeyboardInterrupt\u001b[0m: Interrupted by user"
          ]
        }
      ]
    },
    {
      "cell_type": "code",
      "source": [
        "Display_accounts()"
      ],
      "metadata": {
        "id": "FQ68HR5fd7Wv"
      },
      "execution_count": 5,
      "outputs": []
    },
    {
      "cell_type": "code",
      "source": [
        "from ast import Name\n",
        "while True:\n",
        "  print('1.Login\\n2.Exit')\n",
        "  choice=int(input('Enter your choice: '))\n",
        "  print(f'Your Choose: {choice}')\n",
        "  if choice==1:\n",
        "    acc_id=int(input('Enter Account ID: '))\n",
        "    found_account=None\n",
        "    for i in Accounts:\n",
        "      if i.Account_id==acc_id:\n",
        "        found_account=i\n",
        "        break\n",
        "    if i.Account_id==acc_id:\n",
        "      print(f'Account owner name: {found_account.Name}\\nAccount ID: {found_account.Account_id}\\nBalance: {found_account.Balance}')\n",
        "      print('1.Deposit\\n2.Withdraw\\n3.Display')\n",
        "      choice1=int(input('Enter your choice: '))\n",
        "      if choice1==1:\n",
        "        amount=int(input('Enter amount to deposit: '))\n",
        "        found_account.deposit(amount)\n",
        "        print(f'Your deposited and added to your balance: {amount}\\nYour total balance now: {found_account.Balance}')\n",
        "      elif choice1==2:\n",
        "        amount=int(input('Enter amount to withdraw: '))\n",
        "        found_account.withdraw(amount)\n",
        "        print(f'Your withdrawed and subtracted from your balance: {amount}\\nYour total balance now: {found_account.Balance}')\n",
        "      elif choice1==3:\n",
        "        found_account.display()\n",
        "      else:\n",
        "        print('Account not found')\n",
        "    else:\n",
        "      print('Invalid Account ID')\n",
        "  elif choice==2:\n",
        "    break\n",
        "    print ('Thank you for using our services')"
      ],
      "metadata": {
        "colab": {
          "base_uri": "https://localhost:8080/"
        },
        "id": "iNp7oiFAd9sP",
        "outputId": "65229578-9519-4507-ebf5-355d308e697a"
      },
      "execution_count": 6,
      "outputs": [
        {
          "output_type": "stream",
          "name": "stdout",
          "text": [
            "1.Login\n",
            "2.Exit\n",
            "Enter your choice: 2\n",
            "Your Choose: 2\n"
          ]
        }
      ]
    },
    {
      "cell_type": "code",
      "source": [],
      "metadata": {
        "id": "E6dFgeSUehjc"
      },
      "execution_count": null,
      "outputs": []
    }
  ]
}